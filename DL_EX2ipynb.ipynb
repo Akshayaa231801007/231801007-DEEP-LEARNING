{
  "nbformat": 4,
  "nbformat_minor": 0,
  "metadata": {
    "colab": {
      "provenance": []
    },
    "kernelspec": {
      "name": "python3",
      "display_name": "Python 3"
    },
    "language_info": {
      "name": "python"
    }
  },
  "cells": [
    {
      "cell_type": "code",
      "execution_count": null,
      "metadata": {
        "id": "k84cb2m7w9LY"
      },
      "outputs": [],
      "source": [
        "from tensorflow.keras.models import Sequential\n",
        "from tensorflow.keras.layers import Dense\n",
        "from tensorflow.keras.optimizers import Adam\n",
        "from sklearn.datasets import load_iris\n",
        "from sklearn.model_selection import train_test_split\n",
        "from sklearn.preprocessing import StandardScaler\n",
        "from tensorflow.keras.utils import to_categorical\n",
        "\n"
      ]
    },
    {
      "cell_type": "code",
      "source": [
        "\n",
        "iris = load_iris()\n",
        "X = iris.data\n",
        "y = iris.target\n"
      ],
      "metadata": {
        "id": "euzZhc4hyCXR"
      },
      "execution_count": null,
      "outputs": []
    },
    {
      "cell_type": "code",
      "source": [
        "\n",
        "\n",
        "scaler = StandardScaler()\n",
        "X_scaled = scaler.fit_transform(X)\n",
        "y_categorical = to_categorical(y)\n"
      ],
      "metadata": {
        "id": "ie6CBZbBzHUp"
      },
      "execution_count": null,
      "outputs": []
    },
    {
      "cell_type": "code",
      "source": [
        "\n",
        "X_train, X_test, y_train, y_test = train_test_split(X_scaled, y_categorical, test_size=0.2, random_state=42)\n",
        "\n"
      ],
      "metadata": {
        "id": "tT1-VVL4zMYo"
      },
      "execution_count": null,
      "outputs": []
    },
    {
      "cell_type": "code",
      "source": [
        "\n",
        "def create_mlp_custom(hidden_groups=1):\n",
        "    model = Sequential()\n",
        "    input_dim = X.shape[1]\n",
        "    activation_functions = ['relu', 'tanh', 'sigmoid', 'linear']  # 4 different activations\n",
        "    model.add(Dense(64, input_dim=input_dim, activation=activation_functions[0]))\n",
        "    for act in activation_functions[1:]:\n",
        "        model.add(Dense(64, activation=act))\n",
        "    for _ in range(hidden_groups - 1):\n",
        "        for act in activation_functions:\n",
        "            model.add(Dense(64, activation=act))\n",
        "    model.add(Dense(3, activation='softmax'))\n",
        "    model.compile(optimizer=Adam(learning_rate=0.001), loss='categorical_crossentropy', metrics=['accuracy'])\n",
        "    return model\n",
        "\n"
      ],
      "metadata": {
        "id": "3wC_45qRzV85"
      },
      "execution_count": null,
      "outputs": []
    },
    {
      "cell_type": "code",
      "source": [
        "\n",
        "model_1_group = create_mlp_custom(hidden_groups=1)\n",
        "history_1 = model_1_group.fit(X_train, y_train, epochs=100, batch_size=16, verbose=0, validation_split=0.2)\n",
        "loss_1, acc_1 = model_1_group.evaluate(X_test, y_test, verbose=0)\n",
        "print(f\"1 group (4 hidden layers) - Test Loss: {loss_1:.4f}, Test Accuracy: {acc_1:.4f}\")\n"
      ],
      "metadata": {
        "colab": {
          "base_uri": "https://localhost:8080/"
        },
        "id": "dK1-pVVmzlm5",
        "outputId": "b8b2cdae-8da0-447a-a717-fe5a0e9a2c4c"
      },
      "execution_count": null,
      "outputs": [
        {
          "output_type": "stream",
          "name": "stderr",
          "text": [
            "/usr/local/lib/python3.11/dist-packages/keras/src/layers/core/dense.py:87: UserWarning: Do not pass an `input_shape`/`input_dim` argument to a layer. When using Sequential models, prefer using an `Input(shape)` object as the first layer in the model instead.\n",
            "  super().__init__(activity_regularizer=activity_regularizer, **kwargs)\n"
          ]
        },
        {
          "output_type": "stream",
          "name": "stdout",
          "text": [
            "1 group (4 hidden layers) - Test Loss: 0.0062, Test Accuracy: 1.0000\n"
          ]
        }
      ]
    },
    {
      "cell_type": "code",
      "source": [
        "model_2_groups = create_mlp_custom(hidden_groups=2)\n",
        "history_2 = model_2_groups.fit(X_train, y_train, epochs=100, batch_size=16, verbose=0, validation_split=0.2)\n",
        "loss_2, acc_2 = model_2_groups.evaluate(X_test, y_test, verbose=0)\n",
        "print(f\"2 groups (8 hidden layers) - Test Loss: {loss_2:.4f}, Test Accuracy: {acc_2:.4f}\")\n",
        "\n"
      ],
      "metadata": {
        "colab": {
          "base_uri": "https://localhost:8080/"
        },
        "id": "9LR8sQXlz7BJ",
        "outputId": "709a0606-a733-4cb3-9b98-cff19dbf68a1"
      },
      "execution_count": null,
      "outputs": [
        {
          "output_type": "stream",
          "name": "stdout",
          "text": [
            "2 groups (8 hidden layers) - Test Loss: 0.0013, Test Accuracy: 1.0000\n"
          ]
        }
      ]
    },
    {
      "cell_type": "code",
      "source": [
        "model_3_groups = create_mlp_custom(hidden_groups=3)\n",
        "history_3 = model_3_groups.fit(X_train, y_train, epochs=100, batch_size=16, verbose=0, validation_split=0.2)\n",
        "loss_3, acc_3 = model_3_groups.evaluate(X_test, y_test, verbose=0)\n",
        "print(f\"3 groups (12 hidden layers) - Test Loss: {loss_3:.4f}, Test Accuracy: {acc_3:.4f}\")\n"
      ],
      "metadata": {
        "colab": {
          "base_uri": "https://localhost:8080/"
        },
        "id": "dMHQ-Aye0HMo",
        "outputId": "007101b7-7aae-40f6-9b80-04d8cd96866a"
      },
      "execution_count": null,
      "outputs": [
        {
          "output_type": "stream",
          "name": "stdout",
          "text": [
            "3 groups (12 hidden layers) - Test Loss: 0.0049, Test Accuracy: 1.0000\n"
          ]
        }
      ]
    },
    {
      "cell_type": "code",
      "source": [
        "for groups in [1, 2, 3]:\n",
        "    print(f\"\\nTraining model with {groups} group(s) of 4 hidden layers each ({groups*4} hidden layers total):\")\n",
        "    model = create_mlp_custom(hidden_groups=groups)\n",
        "    history = model.fit(X_train, y_train, epochs=100, batch_size=16,\n",
        "                        verbose=0, validation_split=0.2)\n",
        "    loss, accuracy = model.evaluate(X_test, y_test, verbose=0)\n",
        "    print(f\"Test Loss: {loss:.4f}, Test Accuracy: {accuracy:.4f}\")"
      ],
      "metadata": {
        "colab": {
          "base_uri": "https://localhost:8080/"
        },
        "id": "BZ82xQwT2eo5",
        "outputId": "caaf2ec6-318e-4f98-9262-3a46c869a9fc"
      },
      "execution_count": null,
      "outputs": [
        {
          "output_type": "stream",
          "name": "stdout",
          "text": [
            "\n",
            "Training model with 1 group(s) of 4 hidden layers each (4 hidden layers total):\n",
            "Test Loss: 0.0142, Test Accuracy: 1.0000\n",
            "\n",
            "Training model with 2 group(s) of 4 hidden layers each (8 hidden layers total):\n",
            "Test Loss: 0.0129, Test Accuracy: 1.0000\n",
            "\n",
            "Training model with 3 group(s) of 4 hidden layers each (12 hidden layers total):\n",
            "Test Loss: 0.0017, Test Accuracy: 1.0000\n"
          ]
        }
      ]
    }
  ]
}